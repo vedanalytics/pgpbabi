{
 "cells": [
  {
   "cell_type": "code",
   "execution_count": 1,
   "metadata": {
    "collapsed": true
   },
   "outputs": [],
   "source": [
    "\n",
    "%load_ext autoreload\n",
    "%autoreload 2"
   ]
  },
  {
   "cell_type": "code",
   "execution_count": 2,
   "metadata": {},
   "outputs": [
    {
     "ename": "ModuleNotFoundError",
     "evalue": "No module named 'fastai.structured'",
     "output_type": "error",
     "traceback": [
      "\u001b[0;31m---------------------------------------------------------------------------\u001b[0m",
      "\u001b[0;31mModuleNotFoundError\u001b[0m                       Traceback (most recent call last)",
      "\u001b[0;32m<ipython-input-2-2e9c8bd27ec3>\u001b[0m in \u001b[0;36m<module>\u001b[0;34m\u001b[0m\n\u001b[1;32m      2\u001b[0m \u001b[0;34m\u001b[0m\u001b[0m\n\u001b[1;32m      3\u001b[0m \u001b[0;32mfrom\u001b[0m \u001b[0mfastai\u001b[0m\u001b[0;34m.\u001b[0m\u001b[0mimports\u001b[0m \u001b[0;32mimport\u001b[0m \u001b[0;34m*\u001b[0m\u001b[0;34m\u001b[0m\u001b[0;34m\u001b[0m\u001b[0m\n\u001b[0;32m----> 4\u001b[0;31m \u001b[0;32mfrom\u001b[0m \u001b[0mfastai\u001b[0m\u001b[0;34m.\u001b[0m\u001b[0mstructured\u001b[0m \u001b[0;32mimport\u001b[0m \u001b[0;34m*\u001b[0m\u001b[0;34m\u001b[0m\u001b[0;34m\u001b[0m\u001b[0m\n\u001b[0m\u001b[1;32m      5\u001b[0m \u001b[0;32mfrom\u001b[0m \u001b[0mpandas_summary\u001b[0m \u001b[0;32mimport\u001b[0m \u001b[0mDataFrameSummary\u001b[0m\u001b[0;34m\u001b[0m\u001b[0;34m\u001b[0m\u001b[0m\n\u001b[1;32m      6\u001b[0m \u001b[0;32mfrom\u001b[0m \u001b[0msklearn\u001b[0m\u001b[0;34m.\u001b[0m\u001b[0mensemble\u001b[0m \u001b[0;32mimport\u001b[0m \u001b[0mRandomForestRegressor\u001b[0m\u001b[0;34m,\u001b[0m \u001b[0mRandomForestClassifier\u001b[0m\u001b[0;34m\u001b[0m\u001b[0;34m\u001b[0m\u001b[0m\n",
      "\u001b[0;31mModuleNotFoundError\u001b[0m: No module named 'fastai.structured'"
     ]
    }
   ],
   "source": [
    "%matplotlib inline\n",
    "\n",
    "from fastai.imports import *\n",
    "from fastai.structured import *\n",
    "from pandas_summary import DataFrameSummary\n",
    "from sklearn.ensemble import RandomForestRegressor, RandomForestClassifier\n",
    "from IPython.display import display\n",
    "from sklearn import metrics"
   ]
  },
  {
   "cell_type": "code",
   "execution_count": 4,
   "metadata": {},
   "outputs": [
    {
     "ename": "NameError",
     "evalue": "name 'set_plot_sizes' is not defined",
     "output_type": "error",
     "traceback": [
      "\u001b[0;31m---------------------------------------------------------------------------\u001b[0m",
      "\u001b[0;31mNameError\u001b[0m                                 Traceback (most recent call last)",
      "\u001b[0;32m<ipython-input-4-06d24aded90d>\u001b[0m in \u001b[0;36m<module>\u001b[0;34m\u001b[0m\n\u001b[0;32m----> 1\u001b[0;31m \u001b[0mset_plot_sizes\u001b[0m\u001b[0;34m(\u001b[0m\u001b[0;36m12\u001b[0m\u001b[0;34m,\u001b[0m\u001b[0;36m14\u001b[0m\u001b[0;34m,\u001b[0m\u001b[0;36m16\u001b[0m\u001b[0;34m)\u001b[0m\u001b[0;34m\u001b[0m\u001b[0;34m\u001b[0m\u001b[0m\n\u001b[0m",
      "\u001b[0;31mNameError\u001b[0m: name 'set_plot_sizes' is not defined"
     ]
    }
   ],
   "source": [
    "set_plot_sizes(12,14,16)"
   ]
  },
  {
   "cell_type": "code",
   "execution_count": 318,
   "metadata": {
    "collapsed": true
   },
   "outputs": [],
   "source": [
    "df_raw = pd.read_csv('Train.csv', low_memory=False, \n",
    "                     parse_dates=[\"Opening Day of Restaurant\"])"
   ]
  },
  {
   "cell_type": "code",
   "execution_count": 319,
   "metadata": {
    "collapsed": true
   },
   "outputs": [],
   "source": [
    "def display_all(df):\n",
    "    with pd.option_context(\"display.max_rows\", 1000, \"display.max_columns\", 1000): \n",
    "        display(df)"
   ]
  },
  {
   "cell_type": "code",
   "execution_count": 320,
   "metadata": {},
   "outputs": [
    {
     "data": {
      "text/html": [
       "<div>\n",
       "<style scoped>\n",
       "    .dataframe tbody tr th:only-of-type {\n",
       "        vertical-align: middle;\n",
       "    }\n",
       "\n",
       "    .dataframe tbody tr th {\n",
       "        vertical-align: top;\n",
       "    }\n",
       "\n",
       "    .dataframe thead th {\n",
       "        text-align: right;\n",
       "    }\n",
       "</style>\n",
       "<table border=\"1\" class=\"dataframe\">\n",
       "  <thead>\n",
       "    <tr style=\"text-align: right;\">\n",
       "      <th></th>\n",
       "      <th>3488</th>\n",
       "      <th>3489</th>\n",
       "      <th>3490</th>\n",
       "      <th>3491</th>\n",
       "      <th>3492</th>\n",
       "    </tr>\n",
       "  </thead>\n",
       "  <tbody>\n",
       "    <tr>\n",
       "      <th>Registration Number</th>\n",
       "      <td>23489</td>\n",
       "      <td>23490</td>\n",
       "      <td>23491</td>\n",
       "      <td>23492</td>\n",
       "      <td>23493</td>\n",
       "    </tr>\n",
       "    <tr>\n",
       "      <th>Annual Turnover</th>\n",
       "      <td>40500000</td>\n",
       "      <td>32500000</td>\n",
       "      <td>42500000</td>\n",
       "      <td>53000000</td>\n",
       "      <td>12000000</td>\n",
       "    </tr>\n",
       "    <tr>\n",
       "      <th>Cuisine</th>\n",
       "      <td>algerian,belgian</td>\n",
       "      <td>tibetan,greek</td>\n",
       "      <td>indian,irish</td>\n",
       "      <td>japanese,thai</td>\n",
       "      <td>indian,irish</td>\n",
       "    </tr>\n",
       "    <tr>\n",
       "      <th>City</th>\n",
       "      <td>-1</td>\n",
       "      <td>Bangalore</td>\n",
       "      <td>Chennai</td>\n",
       "      <td>Bangalore</td>\n",
       "      <td>Ghaziabad</td>\n",
       "    </tr>\n",
       "    <tr>\n",
       "      <th>Restaurant Location</th>\n",
       "      <td>Near Party Hub</td>\n",
       "      <td>Near Party Hub</td>\n",
       "      <td>Near Party Hub</td>\n",
       "      <td>Near Party Hub</td>\n",
       "      <td>Near Party Hub</td>\n",
       "    </tr>\n",
       "    <tr>\n",
       "      <th>Opening Day of Restaurant</th>\n",
       "      <td>2009-03-20 00:00:00</td>\n",
       "      <td>2012-05-02 00:00:00</td>\n",
       "      <td>2009-05-21 00:00:00</td>\n",
       "      <td>2008-06-22 00:00:00</td>\n",
       "      <td>2009-04-23 00:00:00</td>\n",
       "    </tr>\n",
       "    <tr>\n",
       "      <th>Facebook Popularity Quotient</th>\n",
       "      <td>69.1</td>\n",
       "      <td>91</td>\n",
       "      <td>80.83</td>\n",
       "      <td>79.4</td>\n",
       "      <td>72</td>\n",
       "    </tr>\n",
       "    <tr>\n",
       "      <th>Endorsed By</th>\n",
       "      <td>Not Specific</td>\n",
       "      <td>Not Specific</td>\n",
       "      <td>Not Specific</td>\n",
       "      <td>Not Specific</td>\n",
       "      <td>Not Specific</td>\n",
       "    </tr>\n",
       "    <tr>\n",
       "      <th>Instagram Popularity Quotient</th>\n",
       "      <td>62.11</td>\n",
       "      <td>96.3</td>\n",
       "      <td>86.8</td>\n",
       "      <td>86</td>\n",
       "      <td>67</td>\n",
       "    </tr>\n",
       "    <tr>\n",
       "      <th>Fire Audit</th>\n",
       "      <td>1</td>\n",
       "      <td>1</td>\n",
       "      <td>1</td>\n",
       "      <td>1</td>\n",
       "      <td>1</td>\n",
       "    </tr>\n",
       "    <tr>\n",
       "      <th>Liquor License Obtained</th>\n",
       "      <td>1</td>\n",
       "      <td>1</td>\n",
       "      <td>1</td>\n",
       "      <td>1</td>\n",
       "      <td>1</td>\n",
       "    </tr>\n",
       "    <tr>\n",
       "      <th>Situated in a Multi Complex</th>\n",
       "      <td>0</td>\n",
       "      <td>0</td>\n",
       "      <td>1</td>\n",
       "      <td>1</td>\n",
       "      <td>1</td>\n",
       "    </tr>\n",
       "    <tr>\n",
       "      <th>Dedicated Parking</th>\n",
       "      <td>1</td>\n",
       "      <td>1</td>\n",
       "      <td>1</td>\n",
       "      <td>1</td>\n",
       "      <td>1</td>\n",
       "    </tr>\n",
       "    <tr>\n",
       "      <th>Open Sitting Available</th>\n",
       "      <td>1</td>\n",
       "      <td>0</td>\n",
       "      <td>0</td>\n",
       "      <td>1</td>\n",
       "      <td>1</td>\n",
       "    </tr>\n",
       "    <tr>\n",
       "      <th>Resturant Tier</th>\n",
       "      <td>2</td>\n",
       "      <td>2</td>\n",
       "      <td>2</td>\n",
       "      <td>2</td>\n",
       "      <td>2</td>\n",
       "    </tr>\n",
       "    <tr>\n",
       "      <th>Restaurant Type</th>\n",
       "      <td>Bar</td>\n",
       "      <td>Bar</td>\n",
       "      <td>Bar</td>\n",
       "      <td>Bar</td>\n",
       "      <td>Bar</td>\n",
       "    </tr>\n",
       "    <tr>\n",
       "      <th>Restaurant Theme</th>\n",
       "      <td>Arabian</td>\n",
       "      <td>Greek</td>\n",
       "      <td>Nature</td>\n",
       "      <td>Greek</td>\n",
       "      <td>Greek</td>\n",
       "    </tr>\n",
       "    <tr>\n",
       "      <th>Restaurant Zomato Rating</th>\n",
       "      <td>4</td>\n",
       "      <td>3</td>\n",
       "      <td>3</td>\n",
       "      <td>3</td>\n",
       "      <td>2</td>\n",
       "    </tr>\n",
       "    <tr>\n",
       "      <th>Restaurant City Tier</th>\n",
       "      <td>0</td>\n",
       "      <td>0</td>\n",
       "      <td>1</td>\n",
       "      <td>1</td>\n",
       "      <td>0</td>\n",
       "    </tr>\n",
       "    <tr>\n",
       "      <th>Order Wait Time</th>\n",
       "      <td>3</td>\n",
       "      <td>1</td>\n",
       "      <td>8</td>\n",
       "      <td>5</td>\n",
       "      <td>2</td>\n",
       "    </tr>\n",
       "    <tr>\n",
       "      <th>Staff Responsivness</th>\n",
       "      <td>5</td>\n",
       "      <td>4</td>\n",
       "      <td>5</td>\n",
       "      <td>5</td>\n",
       "      <td>4</td>\n",
       "    </tr>\n",
       "    <tr>\n",
       "      <th>Value for Money</th>\n",
       "      <td>5</td>\n",
       "      <td>5</td>\n",
       "      <td>4</td>\n",
       "      <td>3</td>\n",
       "      <td>4</td>\n",
       "    </tr>\n",
       "    <tr>\n",
       "      <th>Hygiene Rating</th>\n",
       "      <td>6</td>\n",
       "      <td>7</td>\n",
       "      <td>6</td>\n",
       "      <td>5</td>\n",
       "      <td>4</td>\n",
       "    </tr>\n",
       "    <tr>\n",
       "      <th>Food Rating</th>\n",
       "      <td>6</td>\n",
       "      <td>8</td>\n",
       "      <td>6</td>\n",
       "      <td>10</td>\n",
       "      <td>5</td>\n",
       "    </tr>\n",
       "    <tr>\n",
       "      <th>Overall Restaurant Rating</th>\n",
       "      <td>9</td>\n",
       "      <td>NaN</td>\n",
       "      <td>8</td>\n",
       "      <td>7</td>\n",
       "      <td>NaN</td>\n",
       "    </tr>\n",
       "    <tr>\n",
       "      <th>Live Music Rating</th>\n",
       "      <td>5</td>\n",
       "      <td>4</td>\n",
       "      <td>NaN</td>\n",
       "      <td>3</td>\n",
       "      <td>1</td>\n",
       "    </tr>\n",
       "    <tr>\n",
       "      <th>Comedy Gigs Rating</th>\n",
       "      <td>NaN</td>\n",
       "      <td>NaN</td>\n",
       "      <td>NaN</td>\n",
       "      <td>2</td>\n",
       "      <td>NaN</td>\n",
       "    </tr>\n",
       "    <tr>\n",
       "      <th>Value Deals Rating</th>\n",
       "      <td>NaN</td>\n",
       "      <td>NaN</td>\n",
       "      <td>NaN</td>\n",
       "      <td>NaN</td>\n",
       "      <td>NaN</td>\n",
       "    </tr>\n",
       "    <tr>\n",
       "      <th>Live Sports Rating</th>\n",
       "      <td>NaN</td>\n",
       "      <td>NaN</td>\n",
       "      <td>3</td>\n",
       "      <td>NaN</td>\n",
       "      <td>NaN</td>\n",
       "    </tr>\n",
       "    <tr>\n",
       "      <th>Ambience</th>\n",
       "      <td>7</td>\n",
       "      <td>4</td>\n",
       "      <td>6</td>\n",
       "      <td>7</td>\n",
       "      <td>6</td>\n",
       "    </tr>\n",
       "    <tr>\n",
       "      <th>Lively</th>\n",
       "      <td>7</td>\n",
       "      <td>9</td>\n",
       "      <td>8</td>\n",
       "      <td>6</td>\n",
       "      <td>9</td>\n",
       "    </tr>\n",
       "    <tr>\n",
       "      <th>Service</th>\n",
       "      <td>6</td>\n",
       "      <td>4</td>\n",
       "      <td>3</td>\n",
       "      <td>3</td>\n",
       "      <td>6</td>\n",
       "    </tr>\n",
       "    <tr>\n",
       "      <th>Comfortablility</th>\n",
       "      <td>6</td>\n",
       "      <td>0</td>\n",
       "      <td>3</td>\n",
       "      <td>3</td>\n",
       "      <td>3</td>\n",
       "    </tr>\n",
       "    <tr>\n",
       "      <th>Privacy</th>\n",
       "      <td>8</td>\n",
       "      <td>5</td>\n",
       "      <td>7</td>\n",
       "      <td>6</td>\n",
       "      <td>8</td>\n",
       "    </tr>\n",
       "  </tbody>\n",
       "</table>\n",
       "</div>"
      ],
      "text/plain": [
       "                                              3488                 3489  \\\n",
       "Registration Number                          23489                23490   \n",
       "Annual Turnover                           40500000             32500000   \n",
       "Cuisine                           algerian,belgian        tibetan,greek   \n",
       "City                                            -1           Bangalore    \n",
       "Restaurant Location                 Near Party Hub       Near Party Hub   \n",
       "Opening Day of Restaurant      2009-03-20 00:00:00  2012-05-02 00:00:00   \n",
       "Facebook Popularity Quotient                  69.1                   91   \n",
       "Endorsed By                           Not Specific         Not Specific   \n",
       "Instagram Popularity Quotient                62.11                 96.3   \n",
       "Fire Audit                                       1                    1   \n",
       "Liquor License Obtained                          1                    1   \n",
       "Situated in a Multi Complex                      0                    0   \n",
       "Dedicated Parking                                1                    1   \n",
       "Open Sitting Available                           1                    0   \n",
       "Resturant Tier                                   2                    2   \n",
       "Restaurant Type                                Bar                  Bar   \n",
       "Restaurant Theme                           Arabian                Greek   \n",
       "Restaurant Zomato Rating                         4                    3   \n",
       "Restaurant City Tier                             0                    0   \n",
       "Order Wait Time                                  3                    1   \n",
       "Staff Responsivness                              5                    4   \n",
       "Value for Money                                  5                    5   \n",
       "Hygiene Rating                                   6                    7   \n",
       "Food Rating                                      6                    8   \n",
       "Overall Restaurant Rating                        9                  NaN   \n",
       "Live Music Rating                                5                    4   \n",
       "Comedy Gigs Rating                             NaN                  NaN   \n",
       "Value Deals Rating                             NaN                  NaN   \n",
       "Live Sports Rating                             NaN                  NaN   \n",
       "Ambience                                         7                    4   \n",
       "Lively                                           7                    9   \n",
       "Service                                          6                    4   \n",
       "Comfortablility                                  6                    0   \n",
       "Privacy                                          8                    5   \n",
       "\n",
       "                                              3490                 3491  \\\n",
       "Registration Number                          23491                23492   \n",
       "Annual Turnover                           42500000             53000000   \n",
       "Cuisine                               indian,irish        japanese,thai   \n",
       "City                                       Chennai            Bangalore   \n",
       "Restaurant Location                 Near Party Hub       Near Party Hub   \n",
       "Opening Day of Restaurant      2009-05-21 00:00:00  2008-06-22 00:00:00   \n",
       "Facebook Popularity Quotient                 80.83                 79.4   \n",
       "Endorsed By                           Not Specific         Not Specific   \n",
       "Instagram Popularity Quotient                 86.8                   86   \n",
       "Fire Audit                                       1                    1   \n",
       "Liquor License Obtained                          1                    1   \n",
       "Situated in a Multi Complex                      1                    1   \n",
       "Dedicated Parking                                1                    1   \n",
       "Open Sitting Available                           0                    1   \n",
       "Resturant Tier                                   2                    2   \n",
       "Restaurant Type                                Bar                  Bar   \n",
       "Restaurant Theme                            Nature                Greek   \n",
       "Restaurant Zomato Rating                         3                    3   \n",
       "Restaurant City Tier                             1                    1   \n",
       "Order Wait Time                                  8                    5   \n",
       "Staff Responsivness                              5                    5   \n",
       "Value for Money                                  4                    3   \n",
       "Hygiene Rating                                   6                    5   \n",
       "Food Rating                                      6                   10   \n",
       "Overall Restaurant Rating                        8                    7   \n",
       "Live Music Rating                              NaN                    3   \n",
       "Comedy Gigs Rating                             NaN                    2   \n",
       "Value Deals Rating                             NaN                  NaN   \n",
       "Live Sports Rating                               3                  NaN   \n",
       "Ambience                                         6                    7   \n",
       "Lively                                           8                    6   \n",
       "Service                                          3                    3   \n",
       "Comfortablility                                  3                    3   \n",
       "Privacy                                          7                    6   \n",
       "\n",
       "                                              3492  \n",
       "Registration Number                          23493  \n",
       "Annual Turnover                           12000000  \n",
       "Cuisine                               indian,irish  \n",
       "City                                     Ghaziabad  \n",
       "Restaurant Location                 Near Party Hub  \n",
       "Opening Day of Restaurant      2009-04-23 00:00:00  \n",
       "Facebook Popularity Quotient                    72  \n",
       "Endorsed By                           Not Specific  \n",
       "Instagram Popularity Quotient                   67  \n",
       "Fire Audit                                       1  \n",
       "Liquor License Obtained                          1  \n",
       "Situated in a Multi Complex                      1  \n",
       "Dedicated Parking                                1  \n",
       "Open Sitting Available                           1  \n",
       "Resturant Tier                                   2  \n",
       "Restaurant Type                                Bar  \n",
       "Restaurant Theme                             Greek  \n",
       "Restaurant Zomato Rating                         2  \n",
       "Restaurant City Tier                             0  \n",
       "Order Wait Time                                  2  \n",
       "Staff Responsivness                              4  \n",
       "Value for Money                                  4  \n",
       "Hygiene Rating                                   4  \n",
       "Food Rating                                      5  \n",
       "Overall Restaurant Rating                      NaN  \n",
       "Live Music Rating                                1  \n",
       "Comedy Gigs Rating                             NaN  \n",
       "Value Deals Rating                             NaN  \n",
       "Live Sports Rating                             NaN  \n",
       "Ambience                                         6  \n",
       "Lively                                           9  \n",
       "Service                                          6  \n",
       "Comfortablility                                  3  \n",
       "Privacy                                          8  "
      ]
     },
     "metadata": {},
     "output_type": "display_data"
    }
   ],
   "source": [
    "display_all(df_raw.tail().T)"
   ]
  },
  {
   "cell_type": "code",
   "execution_count": 1,
   "metadata": {},
   "outputs": [
    {
     "ename": "NameError",
     "evalue": "name 'display_all' is not defined",
     "output_type": "error",
     "traceback": [
      "\u001b[0;31m---------------------------------------------------------------------------\u001b[0m",
      "\u001b[0;31mNameError\u001b[0m                                 Traceback (most recent call last)",
      "\u001b[0;32m<ipython-input-1-6a1221a6086d>\u001b[0m in \u001b[0;36m<module>\u001b[0;34m\u001b[0m\n\u001b[0;32m----> 1\u001b[0;31m \u001b[0mdisplay_all\u001b[0m\u001b[0;34m(\u001b[0m\u001b[0mdf_raw\u001b[0m\u001b[0;34m.\u001b[0m\u001b[0mdescribe\u001b[0m\u001b[0;34m(\u001b[0m\u001b[0minclude\u001b[0m\u001b[0;34m=\u001b[0m\u001b[0;34m'all'\u001b[0m\u001b[0;34m)\u001b[0m\u001b[0;34m.\u001b[0m\u001b[0mT\u001b[0m\u001b[0;34m)\u001b[0m\u001b[0;34m\u001b[0m\u001b[0;34m\u001b[0m\u001b[0m\n\u001b[0m",
      "\u001b[0;31mNameError\u001b[0m: name 'display_all' is not defined"
     ]
    }
   ],
   "source": [
    "display_all(df_raw.describe(include='all').T)"
   ]
  },
  {
   "cell_type": "code",
   "execution_count": 322,
   "metadata": {
    "collapsed": true
   },
   "outputs": [],
   "source": [
    "#df_raw[['Annual Turnover']] = np.log(df_raw[['Annual Turnover']])"
   ]
  },
  {
   "cell_type": "code",
   "execution_count": 323,
   "metadata": {},
   "outputs": [
    {
     "data": {
      "text/html": [
       "<div>\n",
       "<style scoped>\n",
       "    .dataframe tbody tr th:only-of-type {\n",
       "        vertical-align: middle;\n",
       "    }\n",
       "\n",
       "    .dataframe tbody tr th {\n",
       "        vertical-align: top;\n",
       "    }\n",
       "\n",
       "    .dataframe thead th {\n",
       "        text-align: right;\n",
       "    }\n",
       "</style>\n",
       "<table border=\"1\" class=\"dataframe\">\n",
       "  <thead>\n",
       "    <tr style=\"text-align: right;\">\n",
       "      <th></th>\n",
       "      <th>Registration Number</th>\n",
       "      <th>Annual Turnover</th>\n",
       "      <th>Cuisine</th>\n",
       "      <th>City</th>\n",
       "      <th>Restaurant Location</th>\n",
       "      <th>Facebook Popularity Quotient</th>\n",
       "      <th>Endorsed By</th>\n",
       "      <th>Instagram Popularity Quotient</th>\n",
       "      <th>Fire Audit</th>\n",
       "      <th>Liquor License Obtained</th>\n",
       "      <th>...</th>\n",
       "      <th>Opening Day of RestaurantDay</th>\n",
       "      <th>Opening Day of RestaurantDayofweek</th>\n",
       "      <th>Opening Day of RestaurantDayofyear</th>\n",
       "      <th>Opening Day of RestaurantIs_month_end</th>\n",
       "      <th>Opening Day of RestaurantIs_month_start</th>\n",
       "      <th>Opening Day of RestaurantIs_quarter_end</th>\n",
       "      <th>Opening Day of RestaurantIs_quarter_start</th>\n",
       "      <th>Opening Day of RestaurantIs_year_end</th>\n",
       "      <th>Opening Day of RestaurantIs_year_start</th>\n",
       "      <th>Opening Day of RestaurantElapsed</th>\n",
       "    </tr>\n",
       "  </thead>\n",
       "  <tbody>\n",
       "    <tr>\n",
       "      <th>0</th>\n",
       "      <td>20001</td>\n",
       "      <td>42000000</td>\n",
       "      <td>indian,irish</td>\n",
       "      <td>Bangalore</td>\n",
       "      <td>Near Business Hub</td>\n",
       "      <td>84.3</td>\n",
       "      <td>Not Specific</td>\n",
       "      <td>95.8</td>\n",
       "      <td>1</td>\n",
       "      <td>1</td>\n",
       "      <td>...</td>\n",
       "      <td>14</td>\n",
       "      <td>5</td>\n",
       "      <td>45</td>\n",
       "      <td>False</td>\n",
       "      <td>False</td>\n",
       "      <td>False</td>\n",
       "      <td>False</td>\n",
       "      <td>False</td>\n",
       "      <td>False</td>\n",
       "      <td>1234569600</td>\n",
       "    </tr>\n",
       "    <tr>\n",
       "      <th>1</th>\n",
       "      <td>20002</td>\n",
       "      <td>50000000</td>\n",
       "      <td>indian,irish</td>\n",
       "      <td>Indore</td>\n",
       "      <td>Near Party Hub</td>\n",
       "      <td>85.4</td>\n",
       "      <td>Tier A Celebrity</td>\n",
       "      <td>85.0</td>\n",
       "      <td>1</td>\n",
       "      <td>1</td>\n",
       "      <td>...</td>\n",
       "      <td>29</td>\n",
       "      <td>0</td>\n",
       "      <td>273</td>\n",
       "      <td>False</td>\n",
       "      <td>False</td>\n",
       "      <td>False</td>\n",
       "      <td>False</td>\n",
       "      <td>False</td>\n",
       "      <td>False</td>\n",
       "      <td>1222646400</td>\n",
       "    </tr>\n",
       "    <tr>\n",
       "      <th>2</th>\n",
       "      <td>20003</td>\n",
       "      <td>32500000</td>\n",
       "      <td>tibetan,italian</td>\n",
       "      <td>Chennai</td>\n",
       "      <td>Near Business Hub</td>\n",
       "      <td>85.0</td>\n",
       "      <td>Tier A Celebrity</td>\n",
       "      <td>68.2</td>\n",
       "      <td>1</td>\n",
       "      <td>1</td>\n",
       "      <td>...</td>\n",
       "      <td>30</td>\n",
       "      <td>5</td>\n",
       "      <td>211</td>\n",
       "      <td>False</td>\n",
       "      <td>False</td>\n",
       "      <td>False</td>\n",
       "      <td>False</td>\n",
       "      <td>False</td>\n",
       "      <td>False</td>\n",
       "      <td>1311984000</td>\n",
       "    </tr>\n",
       "    <tr>\n",
       "      <th>3</th>\n",
       "      <td>20004</td>\n",
       "      <td>110000000</td>\n",
       "      <td>turkish,nigerian</td>\n",
       "      <td>Gurgaon</td>\n",
       "      <td>Near Party Hub</td>\n",
       "      <td>85.6</td>\n",
       "      <td>Tier A Celebrity</td>\n",
       "      <td>83.6</td>\n",
       "      <td>0</td>\n",
       "      <td>1</td>\n",
       "      <td>...</td>\n",
       "      <td>30</td>\n",
       "      <td>6</td>\n",
       "      <td>335</td>\n",
       "      <td>True</td>\n",
       "      <td>False</td>\n",
       "      <td>False</td>\n",
       "      <td>False</td>\n",
       "      <td>False</td>\n",
       "      <td>False</td>\n",
       "      <td>1228003200</td>\n",
       "    </tr>\n",
       "    <tr>\n",
       "      <th>4</th>\n",
       "      <td>20005</td>\n",
       "      <td>20000000</td>\n",
       "      <td>irish,belgian</td>\n",
       "      <td>Manesar</td>\n",
       "      <td>Near Party Hub</td>\n",
       "      <td>NaN</td>\n",
       "      <td>Tier A Celebrity</td>\n",
       "      <td>76.8</td>\n",
       "      <td>1</td>\n",
       "      <td>1</td>\n",
       "      <td>...</td>\n",
       "      <td>22</td>\n",
       "      <td>0</td>\n",
       "      <td>53</td>\n",
       "      <td>False</td>\n",
       "      <td>False</td>\n",
       "      <td>False</td>\n",
       "      <td>False</td>\n",
       "      <td>False</td>\n",
       "      <td>False</td>\n",
       "      <td>1266796800</td>\n",
       "    </tr>\n",
       "  </tbody>\n",
       "</table>\n",
       "<p>5 rows × 46 columns</p>\n",
       "</div>"
      ],
      "text/plain": [
       "   Registration Number  Annual Turnover           Cuisine       City  \\\n",
       "0                20001         42000000      indian,irish  Bangalore   \n",
       "1                20002         50000000      indian,irish     Indore   \n",
       "2                20003         32500000   tibetan,italian    Chennai   \n",
       "3                20004        110000000  turkish,nigerian    Gurgaon   \n",
       "4                20005         20000000     irish,belgian    Manesar   \n",
       "\n",
       "  Restaurant Location  Facebook Popularity Quotient       Endorsed By  \\\n",
       "0   Near Business Hub                          84.3      Not Specific   \n",
       "1      Near Party Hub                          85.4  Tier A Celebrity   \n",
       "2   Near Business Hub                          85.0  Tier A Celebrity   \n",
       "3      Near Party Hub                          85.6  Tier A Celebrity   \n",
       "4      Near Party Hub                           NaN  Tier A Celebrity   \n",
       "\n",
       "   Instagram Popularity Quotient  Fire Audit  Liquor License Obtained  \\\n",
       "0                           95.8           1                        1   \n",
       "1                           85.0           1                        1   \n",
       "2                           68.2           1                        1   \n",
       "3                           83.6           0                        1   \n",
       "4                           76.8           1                        1   \n",
       "\n",
       "                 ...                 Opening Day of RestaurantDay  \\\n",
       "0                ...                                           14   \n",
       "1                ...                                           29   \n",
       "2                ...                                           30   \n",
       "3                ...                                           30   \n",
       "4                ...                                           22   \n",
       "\n",
       "   Opening Day of RestaurantDayofweek  Opening Day of RestaurantDayofyear  \\\n",
       "0                                   5                                  45   \n",
       "1                                   0                                 273   \n",
       "2                                   5                                 211   \n",
       "3                                   6                                 335   \n",
       "4                                   0                                  53   \n",
       "\n",
       "   Opening Day of RestaurantIs_month_end  \\\n",
       "0                                  False   \n",
       "1                                  False   \n",
       "2                                  False   \n",
       "3                                   True   \n",
       "4                                  False   \n",
       "\n",
       "  Opening Day of RestaurantIs_month_start  \\\n",
       "0                                   False   \n",
       "1                                   False   \n",
       "2                                   False   \n",
       "3                                   False   \n",
       "4                                   False   \n",
       "\n",
       "  Opening Day of RestaurantIs_quarter_end  \\\n",
       "0                                   False   \n",
       "1                                   False   \n",
       "2                                   False   \n",
       "3                                   False   \n",
       "4                                   False   \n",
       "\n",
       "   Opening Day of RestaurantIs_quarter_start  \\\n",
       "0                                      False   \n",
       "1                                      False   \n",
       "2                                      False   \n",
       "3                                      False   \n",
       "4                                      False   \n",
       "\n",
       "   Opening Day of RestaurantIs_year_end  \\\n",
       "0                                 False   \n",
       "1                                 False   \n",
       "2                                 False   \n",
       "3                                 False   \n",
       "4                                 False   \n",
       "\n",
       "   Opening Day of RestaurantIs_year_start  Opening Day of RestaurantElapsed  \n",
       "0                                   False                        1234569600  \n",
       "1                                   False                        1222646400  \n",
       "2                                   False                        1311984000  \n",
       "3                                   False                        1228003200  \n",
       "4                                   False                        1266796800  \n",
       "\n",
       "[5 rows x 46 columns]"
      ]
     },
     "execution_count": 323,
     "metadata": {},
     "output_type": "execute_result"
    }
   ],
   "source": [
    "add_datepart(df_raw, 'Opening Day of Restaurant')\n",
    "df_raw.head()"
   ]
  },
  {
   "cell_type": "code",
   "execution_count": 324,
   "metadata": {
    "collapsed": true
   },
   "outputs": [],
   "source": [
    "train_cats(df_raw)\n"
   ]
  },
  {
   "cell_type": "code",
   "execution_count": 325,
   "metadata": {},
   "outputs": [
    {
     "data": {
      "text/plain": [
       "Ambience                                     0.007157\n",
       "Annual Turnover                              0.000000\n",
       "City                                         0.000000\n",
       "Comedy Gigs Rating                           0.710850\n",
       "Comfortablility                              0.000000\n",
       "Cuisine                                      0.000000\n",
       "Dedicated Parking                            0.000000\n",
       "Endorsed By                                  0.000000\n",
       "Facebook Popularity Quotient                 0.028342\n",
       "Fire Audit                                   0.000000\n",
       "Food Rating                                  0.000000\n",
       "Hygiene Rating                               0.000000\n",
       "Instagram Popularity Quotient                0.016032\n",
       "Liquor License Obtained                      0.000000\n",
       "Live Music Rating                            0.219009\n",
       "Live Sports Rating                           0.941311\n",
       "Lively                                       0.000000\n",
       "Open Sitting Available                       0.000000\n",
       "Opening Day of RestaurantDay                 0.000000\n",
       "Opening Day of RestaurantDayofweek           0.000000\n",
       "Opening Day of RestaurantDayofyear           0.000000\n",
       "Opening Day of RestaurantElapsed             0.000000\n",
       "Opening Day of RestaurantIs_month_end        0.000000\n",
       "Opening Day of RestaurantIs_month_start      0.000000\n",
       "Opening Day of RestaurantIs_quarter_end      0.000000\n",
       "Opening Day of RestaurantIs_quarter_start    0.000000\n",
       "Opening Day of RestaurantIs_year_end         0.000000\n",
       "Opening Day of RestaurantIs_year_start       0.000000\n",
       "Opening Day of RestaurantMonth               0.000000\n",
       "Opening Day of RestaurantWeek                0.000000\n",
       "Opening Day of RestaurantYear                0.000000\n",
       "Order Wait Time                              0.000000\n",
       "Overall Restaurant Rating                    0.060693\n",
       "Privacy                                      0.000000\n",
       "Registration Number                          0.000000\n",
       "Restaurant City Tier                         0.000000\n",
       "Restaurant Location                          0.000000\n",
       "Restaurant Theme                             0.000000\n",
       "Restaurant Type                              0.000000\n",
       "Restaurant Zomato Rating                     0.000000\n",
       "Resturant Tier                               0.014028\n",
       "Service                                      0.000000\n",
       "Situated in a Multi Complex                  0.000000\n",
       "Staff Responsivness                          0.000000\n",
       "Value Deals Rating                           0.774979\n",
       "Value for Money                              0.000000\n",
       "dtype: float64"
      ]
     },
     "metadata": {},
     "output_type": "display_data"
    }
   ],
   "source": [
    "display_all(df_raw.isnull().sum().sort_index()/len(df_raw))\n"
   ]
  },
  {
   "cell_type": "code",
   "execution_count": 326,
   "metadata": {
    "collapsed": true
   },
   "outputs": [],
   "source": [
    "os.makedirs('tmp', exist_ok=True)\n",
    "df_raw.to_feather('tmp/hackathon-raw')"
   ]
  },
  {
   "cell_type": "code",
   "execution_count": 327,
   "metadata": {
    "collapsed": true
   },
   "outputs": [],
   "source": [
    "df, y, nas = proc_df(df_raw, 'Annual Turnover')"
   ]
  },
  {
   "cell_type": "code",
   "execution_count": 328,
   "metadata": {},
   "outputs": [
    {
     "data": {
      "text/plain": [
       "Index(['Registration Number', 'Annual Turnover', 'Cuisine', 'City',\n",
       "       'Restaurant Location', 'Facebook Popularity Quotient', 'Endorsed By',\n",
       "       'Instagram Popularity Quotient', 'Fire Audit',\n",
       "       'Liquor License Obtained', 'Situated in a Multi Complex',\n",
       "       'Dedicated Parking', 'Open Sitting Available', 'Resturant Tier',\n",
       "       'Restaurant Type', 'Restaurant Theme', 'Restaurant Zomato Rating',\n",
       "       'Restaurant City Tier', 'Order Wait Time', 'Staff Responsivness',\n",
       "       'Value for Money', 'Hygiene Rating', 'Food Rating',\n",
       "       'Overall Restaurant Rating', 'Live Music Rating', 'Comedy Gigs Rating',\n",
       "       'Value Deals Rating', 'Live Sports Rating', 'Ambience', 'Lively',\n",
       "       'Service', 'Comfortablility', 'Privacy',\n",
       "       'Opening Day of RestaurantYear', 'Opening Day of RestaurantMonth',\n",
       "       'Opening Day of RestaurantWeek', 'Opening Day of RestaurantDay',\n",
       "       'Opening Day of RestaurantDayofweek',\n",
       "       'Opening Day of RestaurantDayofyear',\n",
       "       'Opening Day of RestaurantIs_month_end',\n",
       "       'Opening Day of RestaurantIs_month_start',\n",
       "       'Opening Day of RestaurantIs_quarter_end',\n",
       "       'Opening Day of RestaurantIs_quarter_start',\n",
       "       'Opening Day of RestaurantIs_year_end',\n",
       "       'Opening Day of RestaurantIs_year_start',\n",
       "       'Opening Day of RestaurantElapsed'],\n",
       "      dtype='object')"
      ]
     },
     "execution_count": 328,
     "metadata": {},
     "output_type": "execute_result"
    }
   ],
   "source": [
    "df_raw.columns"
   ]
  },
  {
   "cell_type": "code",
   "execution_count": 329,
   "metadata": {
    "collapsed": true
   },
   "outputs": [],
   "source": [
    "df.drop(columns=['Facebook Popularity Quotient_na','Instagram Popularity Quotient_na','Resturant Tier_na','Ambience_na'],inplace=True)"
   ]
  },
  {
   "cell_type": "code",
   "execution_count": 330,
   "metadata": {},
   "outputs": [
    {
     "name": "stderr",
     "output_type": "stream",
     "text": [
      "/opt/conda/envs/fastai/lib/python3.6/site-packages/sklearn/ensemble/forest.py:246: FutureWarning: The default value of n_estimators will change from 10 in version 0.20 to 100 in 0.22.\n",
      "  \"10 in version 0.20 to 100 in 0.22.\", FutureWarning)\n"
     ]
    },
    {
     "data": {
      "text/plain": [
       "0.7879753157048013"
      ]
     },
     "execution_count": 330,
     "metadata": {},
     "output_type": "execute_result"
    }
   ],
   "source": [
    "m = RandomForestRegressor(n_jobs=-1)\n",
    "m.fit(df, y)\n",
    "m.score(df,y)"
   ]
  },
  {
   "cell_type": "code",
   "execution_count": 331,
   "metadata": {},
   "outputs": [
    {
     "data": {
      "text/plain": [
       "((1493, 50), (1493,), (2000, 50))"
      ]
     },
     "execution_count": 331,
     "metadata": {},
     "output_type": "execute_result"
    }
   ],
   "source": [
    "def split_vals(a,n): return a[:n].copy(), a[n:].copy()\n",
    "\n",
    "n_valid = 2000  # same as Kaggle's test set size\n",
    "n_trn = len(df)-n_valid\n",
    "raw_train, raw_valid = split_vals(df_raw, n_trn)\n",
    "X_train, X_valid = split_vals(df, n_trn)\n",
    "y_train, y_valid = split_vals(y, n_trn)\n",
    "\n",
    "X_train.shape, y_train.shape, X_valid.shape"
   ]
  },
  {
   "cell_type": "code",
   "execution_count": 352,
   "metadata": {
    "collapsed": true
   },
   "outputs": [],
   "source": [
    "\n",
    "def rmse(x,y): return ((np.log(x+1)-np.log(y+1))**2).mean()\n",
    "\n",
    "def print_score(m):\n",
    "    res = [rmse(m.predict(X_train), y_train), rmse(m.predict(X_valid), y_valid),\n",
    "                m.score(X_train, y_train), m.score(X_valid, y_valid)]\n",
    "    if hasattr(m, 'oob_score_'): res.append(m.oob_score_)\n",
    "    print(res)"
   ]
  },
  {
   "cell_type": "code",
   "execution_count": 353,
   "metadata": {},
   "outputs": [
    {
     "name": "stderr",
     "output_type": "stream",
     "text": [
      "/opt/conda/envs/fastai/lib/python3.6/site-packages/sklearn/ensemble/forest.py:246: FutureWarning: The default value of n_estimators will change from 10 in version 0.20 to 100 in 0.22.\n",
      "  \"10 in version 0.20 to 100 in 0.22.\", FutureWarning)\n"
     ]
    },
    {
     "name": "stdout",
     "output_type": "stream",
     "text": [
      "CPU times: user 316 ms, sys: 0 ns, total: 316 ms\n",
      "Wall time: 116 ms\n",
      "[0.07546182936162694, 0.17504219120028974, 0.8268195638837178, 0.35073073180398406]\n"
     ]
    }
   ],
   "source": [
    "m = RandomForestRegressor(n_jobs=-1)\n",
    "%time m.fit(X_train, y_train)\n",
    "print_score(m)"
   ]
  },
  {
   "cell_type": "code",
   "execution_count": 354,
   "metadata": {
    "collapsed": true
   },
   "outputs": [],
   "source": [
    "df_trn, y_trn, nas = proc_df(df_raw, 'Annual Turnover', subset=2000, na_dict=nas)\n",
    "df_trn.drop(columns=['Facebook Popularity Quotient_na','Instagram Popularity Quotient_na','Resturant Tier_na','Ambience_na'],inplace=True)\n",
    "X_train, _ = split_vals(df_trn, 2000)\n",
    "y_train, _ = split_vals(y_trn, 2000)"
   ]
  },
  {
   "cell_type": "code",
   "execution_count": 355,
   "metadata": {},
   "outputs": [
    {
     "name": "stderr",
     "output_type": "stream",
     "text": [
      "/opt/conda/envs/fastai/lib/python3.6/site-packages/sklearn/ensemble/forest.py:246: FutureWarning: The default value of n_estimators will change from 10 in version 0.20 to 100 in 0.22.\n",
      "  \"10 in version 0.20 to 100 in 0.22.\", FutureWarning)\n"
     ]
    },
    {
     "name": "stdout",
     "output_type": "stream",
     "text": [
      "CPU times: user 300 ms, sys: 0 ns, total: 300 ms\n",
      "Wall time: 115 ms\n",
      "[0.06745719352417855, 0.1645793678695333, 0.8129257043716908, 0.5012478898244622]\n"
     ]
    }
   ],
   "source": [
    "m = RandomForestRegressor(n_jobs=-1)\n",
    "%time m.fit(X_train, y_train)\n",
    "print_score(m)"
   ]
  },
  {
   "cell_type": "code",
   "execution_count": 356,
   "metadata": {},
   "outputs": [
    {
     "name": "stdout",
     "output_type": "stream",
     "text": [
      "[0.27364538973631436, 0.2859923455685416, 0.25330822210942494, 0.23037498974507709]\n"
     ]
    }
   ],
   "source": [
    "m = RandomForestRegressor(n_estimators=1, max_depth=3, bootstrap=False, n_jobs=-1)\n",
    "m.fit(X_train, y_train)\n",
    "print_score(m)"
   ]
  },
  {
   "cell_type": "code",
   "execution_count": 357,
   "metadata": {},
   "outputs": [
    {
     "ename": "ExecutableNotFound",
     "evalue": "failed to execute ['dot', '-Tsvg'], make sure the Graphviz executables are on your systems' PATH",
     "output_type": "error",
     "traceback": [
      "\u001b[0;31m---------------------------------------------------------------------------\u001b[0m",
      "\u001b[0;31mFileNotFoundError\u001b[0m                         Traceback (most recent call last)",
      "\u001b[0;32m/opt/conda/envs/fastai/lib/python3.6/site-packages/graphviz/backend.py\u001b[0m in \u001b[0;36mrun\u001b[0;34m(cmd, input, capture_output, check, quiet, **kwargs)\u001b[0m\n\u001b[1;32m    146\u001b[0m     \u001b[0;32mtry\u001b[0m\u001b[0;34m:\u001b[0m\u001b[0;34m\u001b[0m\u001b[0;34m\u001b[0m\u001b[0m\n\u001b[0;32m--> 147\u001b[0;31m         \u001b[0mproc\u001b[0m \u001b[0;34m=\u001b[0m \u001b[0msubprocess\u001b[0m\u001b[0;34m.\u001b[0m\u001b[0mPopen\u001b[0m\u001b[0;34m(\u001b[0m\u001b[0mcmd\u001b[0m\u001b[0;34m,\u001b[0m \u001b[0mstartupinfo\u001b[0m\u001b[0;34m=\u001b[0m\u001b[0mget_startupinfo\u001b[0m\u001b[0;34m(\u001b[0m\u001b[0;34m)\u001b[0m\u001b[0;34m,\u001b[0m \u001b[0;34m**\u001b[0m\u001b[0mkwargs\u001b[0m\u001b[0;34m)\u001b[0m\u001b[0;34m\u001b[0m\u001b[0;34m\u001b[0m\u001b[0m\n\u001b[0m\u001b[1;32m    148\u001b[0m     \u001b[0;32mexcept\u001b[0m \u001b[0mOSError\u001b[0m \u001b[0;32mas\u001b[0m \u001b[0me\u001b[0m\u001b[0;34m:\u001b[0m\u001b[0;34m\u001b[0m\u001b[0;34m\u001b[0m\u001b[0m\n",
      "\u001b[0;32m/opt/conda/envs/fastai/lib/python3.6/subprocess.py\u001b[0m in \u001b[0;36m__init__\u001b[0;34m(self, args, bufsize, executable, stdin, stdout, stderr, preexec_fn, close_fds, shell, cwd, env, universal_newlines, startupinfo, creationflags, restore_signals, start_new_session, pass_fds, encoding, errors)\u001b[0m\n\u001b[1;32m    708\u001b[0m                                 \u001b[0merrread\u001b[0m\u001b[0;34m,\u001b[0m \u001b[0merrwrite\u001b[0m\u001b[0;34m,\u001b[0m\u001b[0;34m\u001b[0m\u001b[0;34m\u001b[0m\u001b[0m\n\u001b[0;32m--> 709\u001b[0;31m                                 restore_signals, start_new_session)\n\u001b[0m\u001b[1;32m    710\u001b[0m         \u001b[0;32mexcept\u001b[0m\u001b[0;34m:\u001b[0m\u001b[0;34m\u001b[0m\u001b[0;34m\u001b[0m\u001b[0m\n",
      "\u001b[0;32m/opt/conda/envs/fastai/lib/python3.6/subprocess.py\u001b[0m in \u001b[0;36m_execute_child\u001b[0;34m(self, args, executable, preexec_fn, close_fds, pass_fds, cwd, env, startupinfo, creationflags, shell, p2cread, p2cwrite, c2pread, c2pwrite, errread, errwrite, restore_signals, start_new_session)\u001b[0m\n\u001b[1;32m   1343\u001b[0m                             \u001b[0merr_msg\u001b[0m \u001b[0;34m+=\u001b[0m \u001b[0;34m': '\u001b[0m \u001b[0;34m+\u001b[0m \u001b[0mrepr\u001b[0m\u001b[0;34m(\u001b[0m\u001b[0merr_filename\u001b[0m\u001b[0;34m)\u001b[0m\u001b[0;34m\u001b[0m\u001b[0;34m\u001b[0m\u001b[0m\n\u001b[0;32m-> 1344\u001b[0;31m                     \u001b[0;32mraise\u001b[0m \u001b[0mchild_exception_type\u001b[0m\u001b[0;34m(\u001b[0m\u001b[0merrno_num\u001b[0m\u001b[0;34m,\u001b[0m \u001b[0merr_msg\u001b[0m\u001b[0;34m,\u001b[0m \u001b[0merr_filename\u001b[0m\u001b[0;34m)\u001b[0m\u001b[0;34m\u001b[0m\u001b[0;34m\u001b[0m\u001b[0m\n\u001b[0m\u001b[1;32m   1345\u001b[0m                 \u001b[0;32mraise\u001b[0m \u001b[0mchild_exception_type\u001b[0m\u001b[0;34m(\u001b[0m\u001b[0merr_msg\u001b[0m\u001b[0;34m)\u001b[0m\u001b[0;34m\u001b[0m\u001b[0;34m\u001b[0m\u001b[0m\n",
      "\u001b[0;31mFileNotFoundError\u001b[0m: [Errno 2] No such file or directory: 'dot': 'dot'",
      "\nDuring handling of the above exception, another exception occurred:\n",
      "\u001b[0;31mExecutableNotFound\u001b[0m                        Traceback (most recent call last)",
      "\u001b[0;32m/opt/conda/envs/fastai/lib/python3.6/site-packages/IPython/core/formatters.py\u001b[0m in \u001b[0;36m__call__\u001b[0;34m(self, obj)\u001b[0m\n\u001b[1;32m    343\u001b[0m             \u001b[0mmethod\u001b[0m \u001b[0;34m=\u001b[0m \u001b[0mget_real_method\u001b[0m\u001b[0;34m(\u001b[0m\u001b[0mobj\u001b[0m\u001b[0;34m,\u001b[0m \u001b[0mself\u001b[0m\u001b[0;34m.\u001b[0m\u001b[0mprint_method\u001b[0m\u001b[0;34m)\u001b[0m\u001b[0;34m\u001b[0m\u001b[0;34m\u001b[0m\u001b[0m\n\u001b[1;32m    344\u001b[0m             \u001b[0;32mif\u001b[0m \u001b[0mmethod\u001b[0m \u001b[0;32mis\u001b[0m \u001b[0;32mnot\u001b[0m \u001b[0;32mNone\u001b[0m\u001b[0;34m:\u001b[0m\u001b[0;34m\u001b[0m\u001b[0;34m\u001b[0m\u001b[0m\n\u001b[0;32m--> 345\u001b[0;31m                 \u001b[0;32mreturn\u001b[0m \u001b[0mmethod\u001b[0m\u001b[0;34m(\u001b[0m\u001b[0;34m)\u001b[0m\u001b[0;34m\u001b[0m\u001b[0;34m\u001b[0m\u001b[0m\n\u001b[0m\u001b[1;32m    346\u001b[0m             \u001b[0;32mreturn\u001b[0m \u001b[0;32mNone\u001b[0m\u001b[0;34m\u001b[0m\u001b[0;34m\u001b[0m\u001b[0m\n\u001b[1;32m    347\u001b[0m         \u001b[0;32melse\u001b[0m\u001b[0;34m:\u001b[0m\u001b[0;34m\u001b[0m\u001b[0;34m\u001b[0m\u001b[0m\n",
      "\u001b[0;32m/opt/conda/envs/fastai/lib/python3.6/site-packages/graphviz/files.py\u001b[0m in \u001b[0;36m_repr_svg_\u001b[0;34m(self)\u001b[0m\n\u001b[1;32m    104\u001b[0m \u001b[0;34m\u001b[0m\u001b[0m\n\u001b[1;32m    105\u001b[0m     \u001b[0;32mdef\u001b[0m \u001b[0m_repr_svg_\u001b[0m\u001b[0;34m(\u001b[0m\u001b[0mself\u001b[0m\u001b[0;34m)\u001b[0m\u001b[0;34m:\u001b[0m\u001b[0;34m\u001b[0m\u001b[0;34m\u001b[0m\u001b[0m\n\u001b[0;32m--> 106\u001b[0;31m         \u001b[0;32mreturn\u001b[0m \u001b[0mself\u001b[0m\u001b[0;34m.\u001b[0m\u001b[0mpipe\u001b[0m\u001b[0;34m(\u001b[0m\u001b[0mformat\u001b[0m\u001b[0;34m=\u001b[0m\u001b[0;34m'svg'\u001b[0m\u001b[0;34m)\u001b[0m\u001b[0;34m.\u001b[0m\u001b[0mdecode\u001b[0m\u001b[0;34m(\u001b[0m\u001b[0mself\u001b[0m\u001b[0;34m.\u001b[0m\u001b[0m_encoding\u001b[0m\u001b[0;34m)\u001b[0m\u001b[0;34m\u001b[0m\u001b[0;34m\u001b[0m\u001b[0m\n\u001b[0m\u001b[1;32m    107\u001b[0m \u001b[0;34m\u001b[0m\u001b[0m\n\u001b[1;32m    108\u001b[0m     \u001b[0;32mdef\u001b[0m \u001b[0mpipe\u001b[0m\u001b[0;34m(\u001b[0m\u001b[0mself\u001b[0m\u001b[0;34m,\u001b[0m \u001b[0mformat\u001b[0m\u001b[0;34m=\u001b[0m\u001b[0;32mNone\u001b[0m\u001b[0;34m,\u001b[0m \u001b[0mrenderer\u001b[0m\u001b[0;34m=\u001b[0m\u001b[0;32mNone\u001b[0m\u001b[0;34m,\u001b[0m \u001b[0mformatter\u001b[0m\u001b[0;34m=\u001b[0m\u001b[0;32mNone\u001b[0m\u001b[0;34m)\u001b[0m\u001b[0;34m:\u001b[0m\u001b[0;34m\u001b[0m\u001b[0;34m\u001b[0m\u001b[0m\n",
      "\u001b[0;32m/opt/conda/envs/fastai/lib/python3.6/site-packages/graphviz/files.py\u001b[0m in \u001b[0;36mpipe\u001b[0;34m(self, format, renderer, formatter)\u001b[0m\n\u001b[1;32m    126\u001b[0m         \u001b[0mdata\u001b[0m \u001b[0;34m=\u001b[0m \u001b[0mtext_type\u001b[0m\u001b[0;34m(\u001b[0m\u001b[0mself\u001b[0m\u001b[0;34m.\u001b[0m\u001b[0msource\u001b[0m\u001b[0;34m)\u001b[0m\u001b[0;34m.\u001b[0m\u001b[0mencode\u001b[0m\u001b[0;34m(\u001b[0m\u001b[0mself\u001b[0m\u001b[0;34m.\u001b[0m\u001b[0m_encoding\u001b[0m\u001b[0;34m)\u001b[0m\u001b[0;34m\u001b[0m\u001b[0;34m\u001b[0m\u001b[0m\n\u001b[1;32m    127\u001b[0m \u001b[0;34m\u001b[0m\u001b[0m\n\u001b[0;32m--> 128\u001b[0;31m         \u001b[0mout\u001b[0m \u001b[0;34m=\u001b[0m \u001b[0mbackend\u001b[0m\u001b[0;34m.\u001b[0m\u001b[0mpipe\u001b[0m\u001b[0;34m(\u001b[0m\u001b[0mself\u001b[0m\u001b[0;34m.\u001b[0m\u001b[0m_engine\u001b[0m\u001b[0;34m,\u001b[0m \u001b[0mformat\u001b[0m\u001b[0;34m,\u001b[0m \u001b[0mdata\u001b[0m\u001b[0;34m,\u001b[0m \u001b[0mrenderer\u001b[0m\u001b[0;34m,\u001b[0m \u001b[0mformatter\u001b[0m\u001b[0;34m)\u001b[0m\u001b[0;34m\u001b[0m\u001b[0;34m\u001b[0m\u001b[0m\n\u001b[0m\u001b[1;32m    129\u001b[0m \u001b[0;34m\u001b[0m\u001b[0m\n\u001b[1;32m    130\u001b[0m         \u001b[0;32mreturn\u001b[0m \u001b[0mout\u001b[0m\u001b[0;34m\u001b[0m\u001b[0;34m\u001b[0m\u001b[0m\n",
      "\u001b[0;32m/opt/conda/envs/fastai/lib/python3.6/site-packages/graphviz/backend.py\u001b[0m in \u001b[0;36mpipe\u001b[0;34m(engine, format, data, renderer, formatter, quiet)\u001b[0m\n\u001b[1;32m    204\u001b[0m     \"\"\"\n\u001b[1;32m    205\u001b[0m     \u001b[0mcmd\u001b[0m\u001b[0;34m,\u001b[0m \u001b[0m_\u001b[0m \u001b[0;34m=\u001b[0m \u001b[0mcommand\u001b[0m\u001b[0;34m(\u001b[0m\u001b[0mengine\u001b[0m\u001b[0;34m,\u001b[0m \u001b[0mformat\u001b[0m\u001b[0;34m,\u001b[0m \u001b[0;32mNone\u001b[0m\u001b[0;34m,\u001b[0m \u001b[0mrenderer\u001b[0m\u001b[0;34m,\u001b[0m \u001b[0mformatter\u001b[0m\u001b[0;34m)\u001b[0m\u001b[0;34m\u001b[0m\u001b[0;34m\u001b[0m\u001b[0m\n\u001b[0;32m--> 206\u001b[0;31m     \u001b[0mout\u001b[0m\u001b[0;34m,\u001b[0m \u001b[0m_\u001b[0m \u001b[0;34m=\u001b[0m \u001b[0mrun\u001b[0m\u001b[0;34m(\u001b[0m\u001b[0mcmd\u001b[0m\u001b[0;34m,\u001b[0m \u001b[0minput\u001b[0m\u001b[0;34m=\u001b[0m\u001b[0mdata\u001b[0m\u001b[0;34m,\u001b[0m \u001b[0mcapture_output\u001b[0m\u001b[0;34m=\u001b[0m\u001b[0;32mTrue\u001b[0m\u001b[0;34m,\u001b[0m \u001b[0mcheck\u001b[0m\u001b[0;34m=\u001b[0m\u001b[0;32mTrue\u001b[0m\u001b[0;34m,\u001b[0m \u001b[0mquiet\u001b[0m\u001b[0;34m=\u001b[0m\u001b[0mquiet\u001b[0m\u001b[0;34m)\u001b[0m\u001b[0;34m\u001b[0m\u001b[0;34m\u001b[0m\u001b[0m\n\u001b[0m\u001b[1;32m    207\u001b[0m     \u001b[0;32mreturn\u001b[0m \u001b[0mout\u001b[0m\u001b[0;34m\u001b[0m\u001b[0;34m\u001b[0m\u001b[0m\n\u001b[1;32m    208\u001b[0m \u001b[0;34m\u001b[0m\u001b[0m\n",
      "\u001b[0;32m/opt/conda/envs/fastai/lib/python3.6/site-packages/graphviz/backend.py\u001b[0m in \u001b[0;36mrun\u001b[0;34m(cmd, input, capture_output, check, quiet, **kwargs)\u001b[0m\n\u001b[1;32m    148\u001b[0m     \u001b[0;32mexcept\u001b[0m \u001b[0mOSError\u001b[0m \u001b[0;32mas\u001b[0m \u001b[0me\u001b[0m\u001b[0;34m:\u001b[0m\u001b[0;34m\u001b[0m\u001b[0;34m\u001b[0m\u001b[0m\n\u001b[1;32m    149\u001b[0m         \u001b[0;32mif\u001b[0m \u001b[0me\u001b[0m\u001b[0;34m.\u001b[0m\u001b[0merrno\u001b[0m \u001b[0;34m==\u001b[0m \u001b[0merrno\u001b[0m\u001b[0;34m.\u001b[0m\u001b[0mENOENT\u001b[0m\u001b[0;34m:\u001b[0m\u001b[0;34m\u001b[0m\u001b[0;34m\u001b[0m\u001b[0m\n\u001b[0;32m--> 150\u001b[0;31m             \u001b[0;32mraise\u001b[0m \u001b[0mExecutableNotFound\u001b[0m\u001b[0;34m(\u001b[0m\u001b[0mcmd\u001b[0m\u001b[0;34m)\u001b[0m\u001b[0;34m\u001b[0m\u001b[0;34m\u001b[0m\u001b[0m\n\u001b[0m\u001b[1;32m    151\u001b[0m         \u001b[0;32melse\u001b[0m\u001b[0;34m:\u001b[0m  \u001b[0;31m# pragma: no cover\u001b[0m\u001b[0;34m\u001b[0m\u001b[0;34m\u001b[0m\u001b[0m\n\u001b[1;32m    152\u001b[0m             \u001b[0;32mraise\u001b[0m\u001b[0;34m\u001b[0m\u001b[0;34m\u001b[0m\u001b[0m\n",
      "\u001b[0;31mExecutableNotFound\u001b[0m: failed to execute ['dot', '-Tsvg'], make sure the Graphviz executables are on your systems' PATH"
     ]
    },
    {
     "data": {
      "text/plain": [
       "<graphviz.files.Source at 0x7f4faef6e5f8>"
      ]
     },
     "metadata": {},
     "output_type": "display_data"
    }
   ],
   "source": [
    "draw_tree(m.estimators_[0], df_trn, precision=3)"
   ]
  },
  {
   "cell_type": "code",
   "execution_count": 358,
   "metadata": {},
   "outputs": [
    {
     "name": "stdout",
     "output_type": "stream",
     "text": [
      "[0.0, 0.20379604936013054, 1.0, 0.23558110447235114]\n"
     ]
    }
   ],
   "source": [
    "m = RandomForestRegressor(n_estimators=1, bootstrap=False, n_jobs=-1)\n",
    "m.fit(X_train, y_train)\n",
    "print_score(m)"
   ]
  },
  {
   "cell_type": "code",
   "execution_count": 359,
   "metadata": {},
   "outputs": [
    {
     "name": "stderr",
     "output_type": "stream",
     "text": [
      "/opt/conda/envs/fastai/lib/python3.6/site-packages/sklearn/ensemble/forest.py:246: FutureWarning: The default value of n_estimators will change from 10 in version 0.20 to 100 in 0.22.\n",
      "  \"10 in version 0.20 to 100 in 0.22.\", FutureWarning)\n"
     ]
    },
    {
     "name": "stdout",
     "output_type": "stream",
     "text": [
      "[0.07375743185435105, 0.1663475048986747, 0.7761995798148712, 0.45100409883665293]\n"
     ]
    }
   ],
   "source": [
    "m = RandomForestRegressor(n_jobs=-1)\n",
    "m.fit(X_train, y_train)\n",
    "print_score(m)"
   ]
  },
  {
   "cell_type": "code",
   "execution_count": 360,
   "metadata": {},
   "outputs": [
    {
     "data": {
      "text/plain": [
       "(array([20000000., 15000000., 20000000., 20000000., 20000000., 25500000., 36000000., 14500000., 20000000.,\n",
       "        20000000.]), 21100000.0, 20000000)"
      ]
     },
     "execution_count": 360,
     "metadata": {},
     "output_type": "execute_result"
    }
   ],
   "source": [
    "preds = np.stack([t.predict(X_valid) for t in m.estimators_])\n",
    "preds[:,0], np.mean(preds[:,0]), y_valid[0]\n"
   ]
  },
  {
   "cell_type": "code",
   "execution_count": 361,
   "metadata": {},
   "outputs": [
    {
     "data": {
      "text/plain": [
       "(10, 2000)"
      ]
     },
     "execution_count": 361,
     "metadata": {},
     "output_type": "execute_result"
    }
   ],
   "source": [
    "preds.shape\n"
   ]
  },
  {
   "cell_type": "code",
   "execution_count": 362,
   "metadata": {},
   "outputs": [
    {
     "data": {
      "image/png": "[encoded data removed]",
      "text/plain": [
       "<Figure size 432x288 with 1 Axes>"
      ]
     },
     "metadata": {
      "needs_background": "light"
     },
     "output_type": "display_data"
    }
   ],
   "source": [
    "plt.plot([metrics.r2_score(y_valid, np.mean(preds[:i+1], axis=0)) for i in range(10)]);\n"
   ]
  },
  {
   "cell_type": "code",
   "execution_count": 365,
   "metadata": {},
   "outputs": [
    {
     "name": "stdout",
     "output_type": "stream",
     "text": [
      "[0.06052326330508308, 0.15462975622342678, 0.8647775780144733, 0.5451545359510814]\n"
     ]
    }
   ],
   "source": [
    "\n",
    "m = RandomForestRegressor(n_estimators=100, n_jobs=-1)\n",
    "m.fit(X_train, y_train)\n",
    "print_score(m)"
   ]
  },
  {
   "cell_type": "code",
   "execution_count": 366,
   "metadata": {},
   "outputs": [
    {
     "name": "stdout",
     "output_type": "stream",
     "text": [
      "[0.05754709052986756, 0.15385555977074664, 0.8665083391307771, 0.5389443946049982, 0.06392401929688829]\n"
     ]
    }
   ],
   "source": [
    "m = RandomForestRegressor(n_estimators=200, n_jobs=-1, oob_score=True)\n",
    "m.fit(X_train, y_train)\n",
    "print_score(m)"
   ]
  },
  {
   "cell_type": "code",
   "execution_count": 367,
   "metadata": {
    "collapsed": true
   },
   "outputs": [],
   "source": [
    "set_rf_samples(2000)\n"
   ]
  },
  {
   "cell_type": "code",
   "execution_count": 368,
   "metadata": {},
   "outputs": [
    {
     "name": "stderr",
     "output_type": "stream",
     "text": [
      "/opt/conda/envs/fastai/lib/python3.6/site-packages/sklearn/ensemble/forest.py:246: FutureWarning: The default value of n_estimators will change from 10 in version 0.20 to 100 in 0.22.\n",
      "  \"10 in version 0.20 to 100 in 0.22.\", FutureWarning)\n",
      "/opt/conda/envs/fastai/lib/python3.6/site-packages/sklearn/ensemble/forest.py:732: UserWarning: Some inputs do not have OOB scores. This probably means too few trees were used to compute any reliable oob estimates.\n",
      "  warn(\"Some inputs do not have OOB scores. \"\n"
     ]
    },
    {
     "name": "stdout",
     "output_type": "stream",
     "text": [
      "CPU times: user 312 ms, sys: 0 ns, total: 312 ms\n",
      "Wall time: 121 ms\n",
      "[0.07026302694188326, 0.17054407479078842, 0.7831638406331747, 0.46962212295440553, -0.22908206743449222]\n"
     ]
    }
   ],
   "source": [
    "m = RandomForestRegressor(n_jobs=-1, oob_score=True)\n",
    "%time m.fit(X_train, y_train)\n",
    "print_score(m)"
   ]
  },
  {
   "cell_type": "code",
   "execution_count": 369,
   "metadata": {},
   "outputs": [
    {
     "name": "stdout",
     "output_type": "stream",
     "text": [
      "[0.05929627884146869, 0.15781315848465577, 0.8632413737979078, 0.5178678807426949, 0.04454818295874252]\n"
     ]
    }
   ],
   "source": [
    "m = RandomForestRegressor(n_estimators=100, n_jobs=-1, oob_score=True)\n",
    "m.fit(X_train, y_train)\n",
    "print_score(m)"
   ]
  },
  {
   "cell_type": "code",
   "execution_count": 370,
   "metadata": {
    "collapsed": true
   },
   "outputs": [],
   "source": [
    "reset_rf_samples()\n"
   ]
  },
  {
   "cell_type": "code",
   "execution_count": 371,
   "metadata": {
    "collapsed": true
   },
   "outputs": [],
   "source": [
    "def dectree_max_depth(tree):\n",
    "    children_left = tree.children_left\n",
    "    children_right = tree.children_right\n",
    "\n",
    "    def walk(node_id):\n",
    "        if (children_left[node_id] != children_right[node_id]):\n",
    "            left_max = 1 + walk(children_left[node_id])\n",
    "            right_max = 1 + walk(children_right[node_id])\n",
    "            return max(left_max, right_max)\n",
    "        else: # leaf\n",
    "            return 1\n",
    "\n",
    "    root_node_id = 0\n",
    "    return walk(root_node_id)"
   ]
  },
  {
   "cell_type": "code",
   "execution_count": 372,
   "metadata": {},
   "outputs": [
    {
     "name": "stdout",
     "output_type": "stream",
     "text": [
      "[0.06000965909622566, 0.15695376920155643, 0.8638642046352455, 0.530179931852607, 0.03910669144464407]\n"
     ]
    }
   ],
   "source": [
    "m = RandomForestRegressor(n_estimators=140, n_jobs=-1, oob_score=True)\n",
    "m.fit(X_train, y_train)\n",
    "print_score(m)\n"
   ]
  },
  {
   "cell_type": "code",
   "execution_count": 373,
   "metadata": {
    "collapsed": true
   },
   "outputs": [],
   "source": [
    "t=m.estimators_[0].tree_"
   ]
  },
  {
   "cell_type": "code",
   "execution_count": 374,
   "metadata": {},
   "outputs": [
    {
     "data": {
      "text/plain": [
       "26"
      ]
     },
     "execution_count": 374,
     "metadata": {},
     "output_type": "execute_result"
    }
   ],
   "source": [
    "dectree_max_depth(t)"
   ]
  },
  {
   "cell_type": "code",
   "execution_count": 375,
   "metadata": {},
   "outputs": [
    {
     "name": "stdout",
     "output_type": "stream",
     "text": [
      "[0.11433837462202535, 0.185616729661415, 0.5356362133608983, 0.3351966688930761, 0.08080732239283517]\n"
     ]
    }
   ],
   "source": [
    "\n",
    "m = RandomForestRegressor(n_estimators=200, min_samples_leaf=4, n_jobs=-1, oob_score=True)\n",
    "m.fit(X_train, y_train)\n",
    "print_score(m)"
   ]
  },
  {
   "cell_type": "code",
   "execution_count": 376,
   "metadata": {
    "collapsed": true
   },
   "outputs": [],
   "source": [
    "t=m.estimators_[0].tree_"
   ]
  },
  {
   "cell_type": "code",
   "execution_count": 377,
   "metadata": {},
   "outputs": [
    {
     "data": {
      "text/plain": [
       "21"
      ]
     },
     "execution_count": 377,
     "metadata": {},
     "output_type": "execute_result"
    }
   ],
   "source": [
    "dectree_max_depth(t)\n"
   ]
  },
  {
   "cell_type": "code",
   "execution_count": 378,
   "metadata": {},
   "outputs": [
    {
     "name": "stdout",
     "output_type": "stream",
     "text": [
      "[0.0958059537058367, 0.17513785407452542, 0.6006577272861797, 0.3764887937255566, 0.08118685168361295]\n"
     ]
    }
   ],
   "source": [
    "m = RandomForestRegressor(n_estimators=300, min_samples_leaf=3, n_jobs=-1, oob_score=True)\n",
    "m.fit(X_train, y_train)\n",
    "print_score(m)\n"
   ]
  },
  {
   "cell_type": "code",
   "execution_count": 436,
   "metadata": {},
   "outputs": [
    {
     "name": "stdout",
     "output_type": "stream",
     "text": [
      "[0.12542598597010185, 0.1909513986723336, 0.5132930172309935, 0.3305377683187718, 0.11636672691351735]\n"
     ]
    }
   ],
   "source": [
    "m = RandomForestRegressor(n_estimators=2000, min_samples_leaf=4, max_features=0.3, n_jobs=-1, oob_score=True)\n",
    "m.fit(X_train, y_train)\n",
    "print_score(m)\n"
   ]
  },
  {
   "cell_type": "code",
   "execution_count": 380,
   "metadata": {
    "collapsed": true
   },
   "outputs": [],
   "source": [
    "test_df = pd.read_csv('Test.csv',parse_dates=[\"Opening Day of Restaurant\"])"
   ]
  },
  {
   "cell_type": "code",
   "execution_count": 381,
   "metadata": {},
   "outputs": [
    {
     "data": {
      "text/html": [
       "<div>\n",
       "<style scoped>\n",
       "    .dataframe tbody tr th:only-of-type {\n",
       "        vertical-align: middle;\n",
       "    }\n",
       "\n",
       "    .dataframe tbody tr th {\n",
       "        vertical-align: top;\n",
       "    }\n",
       "\n",
       "    .dataframe thead th {\n",
       "        text-align: right;\n",
       "    }\n",
       "</style>\n",
       "<table border=\"1\" class=\"dataframe\">\n",
       "  <thead>\n",
       "    <tr style=\"text-align: right;\">\n",
       "      <th></th>\n",
       "      <th>Registration Number</th>\n",
       "      <th>Cuisine</th>\n",
       "      <th>City</th>\n",
       "      <th>Restaurant Location</th>\n",
       "      <th>Opening Day of Restaurant</th>\n",
       "      <th>Facebook Popularity Quotient</th>\n",
       "      <th>Endoresed By</th>\n",
       "      <th>Instagram Popularity Quotient</th>\n",
       "      <th>Fire Audit</th>\n",
       "      <th>Liquor License Obtained</th>\n",
       "      <th>...</th>\n",
       "      <th>Overall Restaurant Rating</th>\n",
       "      <th>Live Music Rating</th>\n",
       "      <th>Comedy Gigs Rating</th>\n",
       "      <th>Value Deals Rating</th>\n",
       "      <th>Live Sports Rating</th>\n",
       "      <th>Ambience</th>\n",
       "      <th>Lively</th>\n",
       "      <th>Service</th>\n",
       "      <th>Comfortablility</th>\n",
       "      <th>Privacy</th>\n",
       "    </tr>\n",
       "  </thead>\n",
       "  <tbody>\n",
       "    <tr>\n",
       "      <th>0</th>\n",
       "      <td>50001</td>\n",
       "      <td>cuban,british</td>\n",
       "      <td>-1</td>\n",
       "      <td>Near Business Hub</td>\n",
       "      <td>2011-10-15</td>\n",
       "      <td>88.30</td>\n",
       "      <td>Not Specific</td>\n",
       "      <td>83.50</td>\n",
       "      <td>1</td>\n",
       "      <td>1</td>\n",
       "      <td>...</td>\n",
       "      <td>9.0</td>\n",
       "      <td>6.0</td>\n",
       "      <td>NaN</td>\n",
       "      <td>NaN</td>\n",
       "      <td>NaN</td>\n",
       "      <td>6</td>\n",
       "      <td>7</td>\n",
       "      <td>5</td>\n",
       "      <td>4</td>\n",
       "      <td>7</td>\n",
       "    </tr>\n",
       "    <tr>\n",
       "      <th>1</th>\n",
       "      <td>50002</td>\n",
       "      <td>welsh,thai</td>\n",
       "      <td>Noida</td>\n",
       "      <td>Near Party Hub</td>\n",
       "      <td>2011-02-13</td>\n",
       "      <td>74.28</td>\n",
       "      <td>Tier A Celebrity</td>\n",
       "      <td>78.16</td>\n",
       "      <td>1</td>\n",
       "      <td>1</td>\n",
       "      <td>...</td>\n",
       "      <td>8.0</td>\n",
       "      <td>4.0</td>\n",
       "      <td>NaN</td>\n",
       "      <td>3.0</td>\n",
       "      <td>NaN</td>\n",
       "      <td>8</td>\n",
       "      <td>7</td>\n",
       "      <td>7</td>\n",
       "      <td>4</td>\n",
       "      <td>7</td>\n",
       "    </tr>\n",
       "    <tr>\n",
       "      <th>2</th>\n",
       "      <td>50003</td>\n",
       "      <td>welsh,thai</td>\n",
       "      <td>Bangalore</td>\n",
       "      <td>Near Party Hub</td>\n",
       "      <td>2010-11-26</td>\n",
       "      <td>78.30</td>\n",
       "      <td>Not Specific</td>\n",
       "      <td>70.67</td>\n",
       "      <td>1</td>\n",
       "      <td>1</td>\n",
       "      <td>...</td>\n",
       "      <td>9.0</td>\n",
       "      <td>5.0</td>\n",
       "      <td>NaN</td>\n",
       "      <td>4.0</td>\n",
       "      <td>NaN</td>\n",
       "      <td>7</td>\n",
       "      <td>8</td>\n",
       "      <td>9</td>\n",
       "      <td>3</td>\n",
       "      <td>9</td>\n",
       "    </tr>\n",
       "    <tr>\n",
       "      <th>3</th>\n",
       "      <td>50004</td>\n",
       "      <td>tibetan,italian</td>\n",
       "      <td>Hyderabad</td>\n",
       "      <td>Near Party Hub</td>\n",
       "      <td>2009-03-30</td>\n",
       "      <td>88.00</td>\n",
       "      <td>Not Specific</td>\n",
       "      <td>97.20</td>\n",
       "      <td>1</td>\n",
       "      <td>1</td>\n",
       "      <td>...</td>\n",
       "      <td>9.0</td>\n",
       "      <td>6.0</td>\n",
       "      <td>NaN</td>\n",
       "      <td>NaN</td>\n",
       "      <td>NaN</td>\n",
       "      <td>5</td>\n",
       "      <td>9</td>\n",
       "      <td>6</td>\n",
       "      <td>2</td>\n",
       "      <td>8</td>\n",
       "    </tr>\n",
       "    <tr>\n",
       "      <th>4</th>\n",
       "      <td>50005</td>\n",
       "      <td>tibetan,greek</td>\n",
       "      <td>Chennai</td>\n",
       "      <td>Near Party Hub</td>\n",
       "      <td>2008-07-07</td>\n",
       "      <td>88.33</td>\n",
       "      <td>Not Specific</td>\n",
       "      <td>94.50</td>\n",
       "      <td>1</td>\n",
       "      <td>1</td>\n",
       "      <td>...</td>\n",
       "      <td>8.0</td>\n",
       "      <td>4.0</td>\n",
       "      <td>3.0</td>\n",
       "      <td>NaN</td>\n",
       "      <td>NaN</td>\n",
       "      <td>5</td>\n",
       "      <td>4</td>\n",
       "      <td>5</td>\n",
       "      <td>7</td>\n",
       "      <td>6</td>\n",
       "    </tr>\n",
       "  </tbody>\n",
       "</table>\n",
       "<p>5 rows × 33 columns</p>\n",
       "</div>"
      ],
      "text/plain": [
       "   Registration Number          Cuisine       City Restaurant Location  \\\n",
       "0                50001    cuban,british         -1   Near Business Hub   \n",
       "1                50002       welsh,thai      Noida      Near Party Hub   \n",
       "2                50003       welsh,thai  Bangalore      Near Party Hub   \n",
       "3                50004  tibetan,italian  Hyderabad      Near Party Hub   \n",
       "4                50005    tibetan,greek    Chennai      Near Party Hub   \n",
       "\n",
       "  Opening Day of Restaurant  Facebook Popularity Quotient      Endoresed By  \\\n",
       "0                2011-10-15                         88.30      Not Specific   \n",
       "1                2011-02-13                         74.28  Tier A Celebrity   \n",
       "2                2010-11-26                         78.30      Not Specific   \n",
       "3                2009-03-30                         88.00      Not Specific   \n",
       "4                2008-07-07                         88.33      Not Specific   \n",
       "\n",
       "   Instagram Popularity Quotient  Fire Audit  Liquor License Obtained  \\\n",
       "0                          83.50           1                        1   \n",
       "1                          78.16           1                        1   \n",
       "2                          70.67           1                        1   \n",
       "3                          97.20           1                        1   \n",
       "4                          94.50           1                        1   \n",
       "\n",
       "    ...     Overall Restaurant Rating  Live Music Rating  Comedy Gigs Rating  \\\n",
       "0   ...                           9.0                6.0                 NaN   \n",
       "1   ...                           8.0                4.0                 NaN   \n",
       "2   ...                           9.0                5.0                 NaN   \n",
       "3   ...                           9.0                6.0                 NaN   \n",
       "4   ...                           8.0                4.0                 3.0   \n",
       "\n",
       "   Value Deals Rating Live Sports Rating Ambience  Lively  Service  \\\n",
       "0                 NaN                NaN        6       7        5   \n",
       "1                 3.0                NaN        8       7        7   \n",
       "2                 4.0                NaN        7       8        9   \n",
       "3                 NaN                NaN        5       9        6   \n",
       "4                 NaN                NaN        5       4        5   \n",
       "\n",
       "   Comfortablility  Privacy  \n",
       "0                4        7  \n",
       "1                4        7  \n",
       "2                3        9  \n",
       "3                2        8  \n",
       "4                7        6  \n",
       "\n",
       "[5 rows x 33 columns]"
      ]
     },
     "execution_count": 381,
     "metadata": {},
     "output_type": "execute_result"
    }
   ],
   "source": [
    "test_df.head()"
   ]
  },
  {
   "cell_type": "code",
   "execution_count": 382,
   "metadata": {
    "collapsed": true
   },
   "outputs": [],
   "source": [
    "add_datepart(test_df, 'Opening Day of Restaurant')"
   ]
  },
  {
   "cell_type": "code",
   "execution_count": 383,
   "metadata": {
    "collapsed": true
   },
   "outputs": [],
   "source": [
    "train_cats(test_df)"
   ]
  },
  {
   "cell_type": "code",
   "execution_count": null,
   "metadata": {
    "collapsed": true
   },
   "outputs": [],
   "source": []
  },
  {
   "cell_type": "code",
   "execution_count": null,
   "metadata": {
    "collapsed": true
   },
   "outputs": [],
   "source": []
  },
  {
   "cell_type": "code",
   "execution_count": 384,
   "metadata": {
    "collapsed": true
   },
   "outputs": [],
   "source": [
    "test_df[['Annual Turnover']]=raw_train[['Annual Turnover']]"
   ]
  },
  {
   "cell_type": "code",
   "execution_count": 385,
   "metadata": {
    "collapsed": true
   },
   "outputs": [],
   "source": [
    "test_d,y,nas=proc_df(test_df,'Annual Turnover')"
   ]
  },
  {
   "cell_type": "code",
   "execution_count": 386,
   "metadata": {},
   "outputs": [
    {
     "data": {
      "text/plain": [
       "Index(['Registration Number', 'Cuisine', 'City', 'Restaurant Location',\n",
       "       'Facebook Popularity Quotient', 'Endoresed By',\n",
       "       'Instagram Popularity Quotient', 'Fire Audit',\n",
       "       'Liquor License Obtained', 'Situated in a Multi Complex',\n",
       "       'Dedicated Parking', 'Open Sitting Available', 'Resturant Tier',\n",
       "       'Restaurant Type', 'Restaurant Theme', 'Restaurant Zomato Rating',\n",
       "       'Restaurant City Tier', 'Order Wait Time', 'Staff Responsivness',\n",
       "       'Value for Money', 'Hygiene Rating', 'Food Rating',\n",
       "       'Overall Restaurant Rating', 'Live Music Rating', 'Comedy Gigs Rating',\n",
       "       'Value Deals Rating', 'Live Sports Rating', 'Ambience', 'Lively',\n",
       "       'Service', 'Comfortablility', 'Privacy',\n",
       "       'Opening Day of RestaurantYear', 'Opening Day of RestaurantMonth',\n",
       "       'Opening Day of RestaurantWeek', 'Opening Day of RestaurantDay',\n",
       "       'Opening Day of RestaurantDayofweek',\n",
       "       'Opening Day of RestaurantDayofyear',\n",
       "       'Opening Day of RestaurantIs_month_end',\n",
       "       'Opening Day of RestaurantIs_month_start',\n",
       "       'Opening Day of RestaurantIs_quarter_end',\n",
       "       'Opening Day of RestaurantIs_quarter_start',\n",
       "       'Opening Day of RestaurantIs_year_end',\n",
       "       'Opening Day of RestaurantIs_year_start',\n",
       "       'Opening Day of RestaurantElapsed', 'Overall Restaurant Rating_na',\n",
       "       'Live Music Rating_na', 'Comedy Gigs Rating_na',\n",
       "       'Value Deals Rating_na', 'Live Sports Rating_na'],\n",
       "      dtype='object')"
      ]
     },
     "execution_count": 386,
     "metadata": {},
     "output_type": "execute_result"
    }
   ],
   "source": [
    "test_d.columns"
   ]
  },
  {
   "cell_type": "code",
   "execution_count": 387,
   "metadata": {},
   "outputs": [
    {
     "data": {
      "text/plain": [
       "Index(['Registration Number', 'Cuisine', 'City', 'Restaurant Location',\n",
       "       'Facebook Popularity Quotient', 'Endorsed By',\n",
       "       'Instagram Popularity Quotient', 'Fire Audit',\n",
       "       'Liquor License Obtained', 'Situated in a Multi Complex',\n",
       "       'Dedicated Parking', 'Open Sitting Available', 'Resturant Tier',\n",
       "       'Restaurant Type', 'Restaurant Theme', 'Restaurant Zomato Rating',\n",
       "       'Restaurant City Tier', 'Order Wait Time', 'Staff Responsivness',\n",
       "       'Value for Money', 'Hygiene Rating', 'Food Rating',\n",
       "       'Overall Restaurant Rating', 'Live Music Rating', 'Comedy Gigs Rating',\n",
       "       'Value Deals Rating', 'Live Sports Rating', 'Ambience', 'Lively',\n",
       "       'Service', 'Comfortablility', 'Privacy',\n",
       "       'Opening Day of RestaurantYear', 'Opening Day of RestaurantMonth',\n",
       "       'Opening Day of RestaurantWeek', 'Opening Day of RestaurantDay',\n",
       "       'Opening Day of RestaurantDayofweek',\n",
       "       'Opening Day of RestaurantDayofyear',\n",
       "       'Opening Day of RestaurantIs_month_end',\n",
       "       'Opening Day of RestaurantIs_month_start',\n",
       "       'Opening Day of RestaurantIs_quarter_end',\n",
       "       'Opening Day of RestaurantIs_quarter_start',\n",
       "       'Opening Day of RestaurantIs_year_end',\n",
       "       'Opening Day of RestaurantIs_year_start',\n",
       "       'Opening Day of RestaurantElapsed', 'Overall Restaurant Rating_na',\n",
       "       'Live Music Rating_na', 'Comedy Gigs Rating_na',\n",
       "       'Value Deals Rating_na', 'Live Sports Rating_na'],\n",
       "      dtype='object')"
      ]
     },
     "execution_count": 387,
     "metadata": {},
     "output_type": "execute_result"
    }
   ],
   "source": [
    "X_train.columns"
   ]
  },
  {
   "cell_type": "code",
   "execution_count": 455,
   "metadata": {
    "collapsed": true
   },
   "outputs": [],
   "source": [
    "def generate_output(model,filename):\n",
    "    output=model.predict(test_d)\n",
    "    op=pd.DataFrame(columns=['Registration Number', 'Annual Turnover'])\n",
    "    op[['Registration Number']]=test_d[['Registration Number']]\n",
    "    op[['Annual Turnover']]=output\n",
    "    op.to_csv(filename)"
   ]
  },
  {
   "cell_type": "code",
   "execution_count": 461,
   "metadata": {},
   "outputs": [
    {
     "name": "stdout",
     "output_type": "stream",
     "text": [
      "[0.17646969891388312, 0.22108919474936103, 0.3693680955737426, 0.24582803674125406, 0.10402624697854201]\n"
     ]
    }
   ],
   "source": [
    "m4 = RandomForestRegressor(n_estimators=1000, min_samples_leaf=5, max_features=0.9, n_jobs=-1, oob_score=True,min_samples_split=30)\n",
    "m4.fit(X_train, y_train)\n",
    "print_score(m4)"
   ]
  },
  {
   "cell_type": "code",
   "execution_count": 456,
   "metadata": {
    "collapsed": true
   },
   "outputs": [],
   "source": [
    "generate_output(m4,'submission4.csv')"
   ]
  },
  {
   "cell_type": "code",
   "execution_count": 475,
   "metadata": {},
   "outputs": [
    {
     "name": "stdout",
     "output_type": "stream",
     "text": [
      "[0.14129680285411733, 0.2001414751930667, 0.46322536942291975, 0.30080768840661987, 0.1197920793014009]\n"
     ]
    }
   ],
   "source": [
    "m5 = RandomForestRegressor(n_estimators=1200, min_samples_leaf=5, max_features=0.3, n_jobs=-1, oob_score=True,min_samples_split=9)\n",
    "m5.fit(X_train, y_train)\n",
    "print_score(m5)"
   ]
  },
  {
   "cell_type": "code",
   "execution_count": 476,
   "metadata": {
    "collapsed": true
   },
   "outputs": [],
   "source": [
    "generate_output(m5,'submission5.csv')"
   ]
  },
  {
   "cell_type": "code",
   "execution_count": 459,
   "metadata": {},
   "outputs": [
    {
     "data": {
      "text/plain": [
       "\u001b[0;31mSignature:\u001b[0m \u001b[0mprint_score\u001b[0m\u001b[0;34m(\u001b[0m\u001b[0mm\u001b[0m\u001b[0;34m)\u001b[0m\u001b[0;34m\u001b[0m\u001b[0;34m\u001b[0m\u001b[0m\n",
       "\u001b[0;31mDocstring:\u001b[0m <no docstring>\n",
       "\u001b[0;31mSource:\u001b[0m   \n",
       "\u001b[0;32mdef\u001b[0m \u001b[0mprint_score\u001b[0m\u001b[0;34m(\u001b[0m\u001b[0mm\u001b[0m\u001b[0;34m)\u001b[0m\u001b[0;34m:\u001b[0m\u001b[0;34m\u001b[0m\n",
       "\u001b[0;34m\u001b[0m    \u001b[0mres\u001b[0m \u001b[0;34m=\u001b[0m \u001b[0;34m[\u001b[0m\u001b[0mrmse\u001b[0m\u001b[0;34m(\u001b[0m\u001b[0mm\u001b[0m\u001b[0;34m.\u001b[0m\u001b[0mpredict\u001b[0m\u001b[0;34m(\u001b[0m\u001b[0mX_train\u001b[0m\u001b[0;34m)\u001b[0m\u001b[0;34m,\u001b[0m \u001b[0my_train\u001b[0m\u001b[0;34m)\u001b[0m\u001b[0;34m,\u001b[0m \u001b[0mrmse\u001b[0m\u001b[0;34m(\u001b[0m\u001b[0mm\u001b[0m\u001b[0;34m.\u001b[0m\u001b[0mpredict\u001b[0m\u001b[0;34m(\u001b[0m\u001b[0mX_valid\u001b[0m\u001b[0;34m)\u001b[0m\u001b[0;34m,\u001b[0m \u001b[0my_valid\u001b[0m\u001b[0;34m)\u001b[0m\u001b[0;34m,\u001b[0m\u001b[0;34m\u001b[0m\n",
       "\u001b[0;34m\u001b[0m                \u001b[0mm\u001b[0m\u001b[0;34m.\u001b[0m\u001b[0mscore\u001b[0m\u001b[0;34m(\u001b[0m\u001b[0mX_train\u001b[0m\u001b[0;34m,\u001b[0m \u001b[0my_train\u001b[0m\u001b[0;34m)\u001b[0m\u001b[0;34m,\u001b[0m \u001b[0mm\u001b[0m\u001b[0;34m.\u001b[0m\u001b[0mscore\u001b[0m\u001b[0;34m(\u001b[0m\u001b[0mX_valid\u001b[0m\u001b[0;34m,\u001b[0m \u001b[0my_valid\u001b[0m\u001b[0;34m)\u001b[0m\u001b[0;34m]\u001b[0m\u001b[0;34m\u001b[0m\n",
       "\u001b[0;34m\u001b[0m    \u001b[0;32mif\u001b[0m \u001b[0mhasattr\u001b[0m\u001b[0;34m(\u001b[0m\u001b[0mm\u001b[0m\u001b[0;34m,\u001b[0m \u001b[0;34m'oob_score_'\u001b[0m\u001b[0;34m)\u001b[0m\u001b[0;34m:\u001b[0m \u001b[0mres\u001b[0m\u001b[0;34m.\u001b[0m\u001b[0mappend\u001b[0m\u001b[0;34m(\u001b[0m\u001b[0mm\u001b[0m\u001b[0;34m.\u001b[0m\u001b[0moob_score_\u001b[0m\u001b[0;34m)\u001b[0m\u001b[0;34m\u001b[0m\n",
       "\u001b[0;34m\u001b[0m    \u001b[0mprint\u001b[0m\u001b[0;34m(\u001b[0m\u001b[0mres\u001b[0m\u001b[0;34m)\u001b[0m\u001b[0;34m\u001b[0m\u001b[0;34m\u001b[0m\u001b[0m\n",
       "\u001b[0;31mFile:\u001b[0m      /notebooks/courses/ml1/<ipython-input-352-0d7553a5dbf4>\n",
       "\u001b[0;31mType:\u001b[0m      function\n"
      ]
     },
     "metadata": {},
     "output_type": "display_data"
    }
   ],
   "source": []
  },
  {
   "cell_type": "code",
   "execution_count": null,
   "metadata": {
    "collapsed": true
   },
   "outputs": [],
   "source": []
  }
 ],
 "metadata": {
  "anaconda-cloud": {},
  "kernelspec": {
   "display_name": "Python [default]",
   "language": "python",
   "name": "python3"
  },
  "language_info": {
   "codemirror_mode": {
    "name": "ipython",
    "version": 3
   },
   "file_extension": ".py",
   "mimetype": "text/x-python",
   "name": "python",
   "nbconvert_exporter": "python",
   "pygments_lexer": "ipython3",
   "version": "3.5.2"
  }
 },
 "nbformat": 4,
 "nbformat_minor": 2
}
